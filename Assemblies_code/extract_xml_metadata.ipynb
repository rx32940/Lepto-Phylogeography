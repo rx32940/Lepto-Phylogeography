{
 "cells": [
  {
   "cell_type": "code",
   "execution_count": 1,
   "metadata": {},
   "outputs": [],
   "source": [
    "import pandas as pd\n",
    "import os\n",
    "import matplotlib.pyplot as plt\n",
    "import xml.etree.ElementTree as ET\n",
    "import re"
   ]
  },
  {
   "cell_type": "code",
   "execution_count": 15,
   "metadata": {},
   "outputs": [],
   "source": [
    "path=\"/Users/rx32940/Dropbox/5.Rachel-projects/Phylogeography/Lepto_assemblies_V2\"\n",
    "\n",
    "doc = ET.parse(path + \"/all_self_asm_metadata.xml\") # xml object, biosample result file downloaded directly from ncbi with picardeau_313_biosample list, format with vscode tool\n",
    "\n",
    "root = doc.getroot() # get the root elem\n",
    "\n",
    "\n",
    "all_picardeau = pd.DataFrame()\n",
    "\n",
    "\n",
    "for biosample in root.findall(\"BioSample\"):\n",
    "    biosample_acc = biosample.attrib[\"accession\"]\n",
    "    sample_name = biosample.find(\"Description\").find(\"Title\").text\n",
    "    biosample_name = biosample.find(\"Description\").find(\"Organism\").attrib[\"taxonomy_name\"]\n",
    "    species=' '.join(biosample_name.split(\" \")[:2])\n",
    "    attributes=biosample.find(\"Attributes\").findall(\"Attribute\")\n",
    "    for atrib in attributes:\n",
    "        if atrib.attrib[\"attribute_name\"] == \"INSDC center name\":\n",
    "            ins = atrib.text\n",
    "    metadata = pd.DataFrame({\"Sample\":[biosample_acc],\n",
    "                             \"sample_name\":[sample_name], \n",
    "                             \"biosample_name\": [biosample_name],\n",
    "                             \"species\":[species],\n",
    "                            \"institute\":[ins]})\n",
    "    all_picardeau = all_picardeau.append(metadata)\n",
    "    \n",
    "species_dict=all_picardeau[[\"Sample\",\"species\"]]\n",
    "\n",
    "all_picardeau.to_csv(path + \"/all_self_asm_filtered_metadata.csv\")"
   ]
  },
  {
   "cell_type": "code",
   "execution_count": 41,
   "metadata": {},
   "outputs": [
    {
     "data": {
      "text/plain": [
       "['Leptospira adleri',\n",
       " 'Leptospira bouyouniensis',\n",
       " 'Leptospira ilyithenensis',\n",
       " 'Leptospira dzianensis',\n",
       " 'Leptospira kmetyi',\n",
       " 'Leptospira saintgironsiae',\n",
       " 'Leptospira wolbachii',\n",
       " 'Leptospira barantonii',\n",
       " 'Leptospira kemamanensis',\n",
       " 'Leptospira sp.',\n",
       " 'Leptospira levettii',\n",
       " 'Leptospira ellinghausenii',\n",
       " 'Leptospira congkakensis',\n",
       " 'Leptospira vanthielii',\n",
       " 'Leptospira bandrabouensis',\n",
       " 'Leptospira mayottensis',\n",
       " 'Leptospira elllisii',\n",
       " 'Leptospira harrisiae',\n",
       " 'Leptospira kirschneri',\n",
       " 'Leptospira licerasiae',\n",
       " 'Leptospira noguchii',\n",
       " 'Leptospira weilii',\n",
       " 'Leptospira sarikeiensis',\n",
       " 'Leptospira kobayashii',\n",
       " 'Leptospira interrogans',\n",
       " 'Leptospira santarosai',\n",
       " 'Leptospira wolffii',\n",
       " 'Leptospira selangorensis',\n",
       " 'Leptospira putramalaysiae',\n",
       " 'Leptospira dzoumogneensis',\n",
       " 'Leptospira biflexa',\n",
       " 'Leptospira mtsangambouensis',\n",
       " 'Leptospira jelokensis',\n",
       " 'Leptospira johnsonii',\n",
       " 'Leptospira borgpetersenii',\n",
       " 'Leptospira venezuelensis',\n",
       " 'Leptospira meyeri',\n",
       " 'Leptospira perdikensis',\n",
       " 'Leptospira brenneri']"
      ]
     },
     "execution_count": 41,
     "metadata": {},
     "output_type": "execute_result"
    }
   ],
   "source": [
    "# species_dict.to_csv(path+\"biosample_species_dict_picardeau.csv\",header=None,index=False)\n",
    "# uniq species for picardeau\n",
    "# uniq_species = list(set(all_picardeau[\"species\"])) # 37 unique species\n",
    "# uniq_species"
   ]
  },
  {
   "cell_type": "code",
   "execution_count": 11,
   "metadata": {},
   "outputs": [
    {
     "data": {
      "text/plain": [
       "['Leptospira terpstrae',\n",
       " 'Leptospira kirschneri',\n",
       " 'Leptospira fainei',\n",
       " 'Leptospira borgpetersenii',\n",
       " 'Leptospira interrogans',\n",
       " 'Leptospira sp.',\n",
       " 'Leptospira wolbachii',\n",
       " 'Leptospira santarosai',\n",
       " 'Leptospira kmetyi',\n",
       " 'Leptospira broomii',\n",
       " 'Leptospira vanthielii',\n",
       " 'Leptospira meyeri',\n",
       " 'Leptospira licerasiae',\n",
       " 'Leptospira inadai',\n",
       " 'Leptospira noguchii',\n",
       " 'Leptospira alexanderi',\n",
       " 'Leptospira yanagawae',\n",
       " 'Leptospira wolffii',\n",
       " 'Leptospira alstonii',\n",
       " 'Leptospira weilii',\n",
       " 'Leptospira mayottensis']"
      ]
     },
     "execution_count": 11,
     "metadata": {},
     "output_type": "execute_result"
    }
   ],
   "source": [
    "species_dict.to_csv(path+\"/biosample_species_dict_rest.csv\",header=None,index=False)\n",
    "# uniq species for rest211 isolates\n",
    "uniq_species = list(set(all_picardeau[\"species\"])) # 37 unique species\n",
    "uniq_species"
   ]
  },
  {
   "cell_type": "code",
   "execution_count": null,
   "metadata": {},
   "outputs": [],
   "source": []
  }
 ],
 "metadata": {
  "kernelspec": {
   "display_name": "Python 3",
   "language": "python",
   "name": "python3"
  },
  "language_info": {
   "codemirror_mode": {
    "name": "ipython",
    "version": 3
   },
   "file_extension": ".py",
   "mimetype": "text/x-python",
   "name": "python",
   "nbconvert_exporter": "python",
   "pygments_lexer": "ipython3",
   "version": "3.7.2"
  }
 },
 "nbformat": 4,
 "nbformat_minor": 2
}
